{
 "cells": [
  {
   "cell_type": "markdown",
   "id": "a932d1c9-2a76-42c1-8a8a-3716e77afcd4",
   "metadata": {},
   "source": [
    "# Logistic Regression - Accident Prediction"
   ]
  },
  {
   "cell_type": "markdown",
   "id": "53a083c8-48c6-4e58-86f2-9d1baf56ebe4",
   "metadata": {},
   "source": [
    "# Directory, libraries, data"
   ]
  },
  {
   "cell_type": "code",
   "execution_count": 46,
   "id": "f2545843-eb21-4548-8a35-ea5dd1060330",
   "metadata": {},
   "outputs": [
    {
     "name": "stdout",
     "output_type": "stream",
     "text": [
      "C:\\Users\\shrav\\Data_Analysis_Projects\\Datasets\\Logistic Regression\n"
     ]
    }
   ],
   "source": [
    "%cd C:/Users/shrav/Data_Analysis_Projects/Datasets/Logistic Regression"
   ]
  },
  {
   "cell_type": "code",
   "execution_count": 47,
   "id": "82f40ee2-0442-4ca6-be69-c2882fd61dc2",
   "metadata": {},
   "outputs": [],
   "source": [
    "# Libraries\n",
    "import pandas as pd\n",
    "import statsmodels.api as sm\n",
    "import seaborn as sns\n",
    "from sklearn.model_selection import train_test_split\n",
    "from sklearn.metrics import confusion_matrix, classification_report\n",
    "import numpy as np\n",
    "import matplotlib.pyplot as plt"
   ]
  },
  {
   "cell_type": "code",
   "execution_count": 48,
   "id": "9037e56f-6bec-4458-8dac-c0df9280eed5",
   "metadata": {},
   "outputs": [
    {
     "data": {
      "text/html": [
       "<div>\n",
       "<style scoped>\n",
       "    .dataframe tbody tr th:only-of-type {\n",
       "        vertical-align: middle;\n",
       "    }\n",
       "\n",
       "    .dataframe tbody tr th {\n",
       "        vertical-align: top;\n",
       "    }\n",
       "\n",
       "    .dataframe thead th {\n",
       "        text-align: right;\n",
       "    }\n",
       "</style>\n",
       "<table border=\"1\" class=\"dataframe\">\n",
       "  <thead>\n",
       "    <tr style=\"text-align: right;\">\n",
       "      <th></th>\n",
       "      <th>Age</th>\n",
       "      <th>Gender</th>\n",
       "      <th>Speed_of_Impact</th>\n",
       "      <th>Helmet_Used</th>\n",
       "      <th>Seatbelt_Used</th>\n",
       "      <th>Survived</th>\n",
       "    </tr>\n",
       "  </thead>\n",
       "  <tbody>\n",
       "    <tr>\n",
       "      <th>0</th>\n",
       "      <td>56</td>\n",
       "      <td>Female</td>\n",
       "      <td>27.0</td>\n",
       "      <td>No</td>\n",
       "      <td>No</td>\n",
       "      <td>1</td>\n",
       "    </tr>\n",
       "    <tr>\n",
       "      <th>1</th>\n",
       "      <td>69</td>\n",
       "      <td>Female</td>\n",
       "      <td>46.0</td>\n",
       "      <td>No</td>\n",
       "      <td>Yes</td>\n",
       "      <td>1</td>\n",
       "    </tr>\n",
       "    <tr>\n",
       "      <th>2</th>\n",
       "      <td>46</td>\n",
       "      <td>Male</td>\n",
       "      <td>46.0</td>\n",
       "      <td>Yes</td>\n",
       "      <td>Yes</td>\n",
       "      <td>0</td>\n",
       "    </tr>\n",
       "    <tr>\n",
       "      <th>3</th>\n",
       "      <td>32</td>\n",
       "      <td>Male</td>\n",
       "      <td>117.0</td>\n",
       "      <td>No</td>\n",
       "      <td>Yes</td>\n",
       "      <td>0</td>\n",
       "    </tr>\n",
       "    <tr>\n",
       "      <th>4</th>\n",
       "      <td>60</td>\n",
       "      <td>Female</td>\n",
       "      <td>40.0</td>\n",
       "      <td>Yes</td>\n",
       "      <td>Yes</td>\n",
       "      <td>0</td>\n",
       "    </tr>\n",
       "  </tbody>\n",
       "</table>\n",
       "</div>"
      ],
      "text/plain": [
       "   Age  Gender  Speed_of_Impact Helmet_Used Seatbelt_Used  Survived\n",
       "0   56  Female             27.0          No            No         1\n",
       "1   69  Female             46.0          No           Yes         1\n",
       "2   46    Male             46.0         Yes           Yes         0\n",
       "3   32    Male            117.0          No           Yes         0\n",
       "4   60  Female             40.0         Yes           Yes         0"
      ]
     },
     "execution_count": 48,
     "metadata": {},
     "output_type": "execute_result"
    }
   ],
   "source": [
    "# data \n",
    "df = pd.read_csv('accident.csv')\n",
    "df.head()"
   ]
  },
  {
   "cell_type": "markdown",
   "id": "5ab11858-4def-4c78-b3b8-8fbd5333aa5b",
   "metadata": {},
   "source": [
    "# Data Analysis"
   ]
  },
  {
   "cell_type": "code",
   "execution_count": 49,
   "id": "693b4886-bfac-4f00-8e1c-82441e44eaee",
   "metadata": {},
   "outputs": [
    {
     "data": {
      "text/html": [
       "<div>\n",
       "<style scoped>\n",
       "    .dataframe tbody tr th:only-of-type {\n",
       "        vertical-align: middle;\n",
       "    }\n",
       "\n",
       "    .dataframe tbody tr th {\n",
       "        vertical-align: top;\n",
       "    }\n",
       "\n",
       "    .dataframe thead th {\n",
       "        text-align: right;\n",
       "    }\n",
       "</style>\n",
       "<table border=\"1\" class=\"dataframe\">\n",
       "  <thead>\n",
       "    <tr style=\"text-align: right;\">\n",
       "      <th></th>\n",
       "      <th>Age</th>\n",
       "      <th>Speed_of_Impact</th>\n",
       "      <th>Survived</th>\n",
       "    </tr>\n",
       "  </thead>\n",
       "  <tbody>\n",
       "    <tr>\n",
       "      <th>count</th>\n",
       "      <td>200.00</td>\n",
       "      <td>197.00</td>\n",
       "      <td>200.0</td>\n",
       "    </tr>\n",
       "    <tr>\n",
       "      <th>mean</th>\n",
       "      <td>43.42</td>\n",
       "      <td>70.44</td>\n",
       "      <td>0.5</td>\n",
       "    </tr>\n",
       "    <tr>\n",
       "      <th>std</th>\n",
       "      <td>14.94</td>\n",
       "      <td>30.13</td>\n",
       "      <td>0.5</td>\n",
       "    </tr>\n",
       "    <tr>\n",
       "      <th>min</th>\n",
       "      <td>18.00</td>\n",
       "      <td>20.00</td>\n",
       "      <td>0.0</td>\n",
       "    </tr>\n",
       "    <tr>\n",
       "      <th>25%</th>\n",
       "      <td>31.00</td>\n",
       "      <td>43.00</td>\n",
       "      <td>0.0</td>\n",
       "    </tr>\n",
       "    <tr>\n",
       "      <th>50%</th>\n",
       "      <td>43.50</td>\n",
       "      <td>71.00</td>\n",
       "      <td>1.0</td>\n",
       "    </tr>\n",
       "    <tr>\n",
       "      <th>75%</th>\n",
       "      <td>56.00</td>\n",
       "      <td>95.00</td>\n",
       "      <td>1.0</td>\n",
       "    </tr>\n",
       "    <tr>\n",
       "      <th>max</th>\n",
       "      <td>69.00</td>\n",
       "      <td>119.00</td>\n",
       "      <td>1.0</td>\n",
       "    </tr>\n",
       "  </tbody>\n",
       "</table>\n",
       "</div>"
      ],
      "text/plain": [
       "          Age  Speed_of_Impact  Survived\n",
       "count  200.00           197.00     200.0\n",
       "mean    43.42            70.44       0.5\n",
       "std     14.94            30.13       0.5\n",
       "min     18.00            20.00       0.0\n",
       "25%     31.00            43.00       0.0\n",
       "50%     43.50            71.00       1.0\n",
       "75%     56.00            95.00       1.0\n",
       "max     69.00           119.00       1.0"
      ]
     },
     "execution_count": 49,
     "metadata": {},
     "output_type": "execute_result"
    }
   ],
   "source": [
    "desc = df.describe().round(2)\n",
    "desc"
   ]
  },
  {
   "cell_type": "markdown",
   "id": "9817d588-a017-49a5-b332-f12da791d877",
   "metadata": {},
   "source": [
    "# Checking for Empty values"
   ]
  },
  {
   "cell_type": "code",
   "execution_count": 50,
   "id": "cbfa148f-8085-4a9b-9b3d-6907e093e4d0",
   "metadata": {},
   "outputs": [
    {
     "name": "stdout",
     "output_type": "stream",
     "text": [
      "<class 'pandas.core.frame.DataFrame'>\n",
      "RangeIndex: 200 entries, 0 to 199\n",
      "Data columns (total 6 columns):\n",
      " #   Column           Non-Null Count  Dtype  \n",
      "---  ------           --------------  -----  \n",
      " 0   Age              200 non-null    int64  \n",
      " 1   Gender           199 non-null    object \n",
      " 2   Speed_of_Impact  197 non-null    float64\n",
      " 3   Helmet_Used      200 non-null    object \n",
      " 4   Seatbelt_Used    200 non-null    object \n",
      " 5   Survived         200 non-null    int64  \n",
      "dtypes: float64(1), int64(2), object(3)\n",
      "memory usage: 9.5+ KB\n"
     ]
    }
   ],
   "source": [
    "df.info()"
   ]
  },
  {
   "cell_type": "code",
   "execution_count": 51,
   "id": "4d3f3506-d813-4d91-84e9-b0cc65bbc4f7",
   "metadata": {},
   "outputs": [
    {
     "data": {
      "text/plain": [
       "Age                0\n",
       "Gender             1\n",
       "Speed_of_Impact    3\n",
       "Helmet_Used        0\n",
       "Seatbelt_Used      0\n",
       "Survived           0\n",
       "dtype: int64"
      ]
     },
     "execution_count": 51,
     "metadata": {},
     "output_type": "execute_result"
    }
   ],
   "source": [
    "df.isnull().sum()"
   ]
  },
  {
   "cell_type": "code",
   "execution_count": 52,
   "id": "1dc10614-249e-4fe8-a32d-59d2bcd10673",
   "metadata": {},
   "outputs": [],
   "source": [
    "df = df.dropna(subset=['Gender', \"Speed_of_Impact\"])"
   ]
  },
  {
   "cell_type": "code",
   "execution_count": 53,
   "id": "c24baa6b-a8d0-424b-9294-f6a19b7216bf",
   "metadata": {},
   "outputs": [
    {
     "name": "stdout",
     "output_type": "stream",
     "text": [
      "<class 'pandas.core.frame.DataFrame'>\n",
      "Index: 196 entries, 0 to 199\n",
      "Data columns (total 6 columns):\n",
      " #   Column           Non-Null Count  Dtype  \n",
      "---  ------           --------------  -----  \n",
      " 0   Age              196 non-null    int64  \n",
      " 1   Gender           196 non-null    object \n",
      " 2   Speed_of_Impact  196 non-null    float64\n",
      " 3   Helmet_Used      196 non-null    object \n",
      " 4   Seatbelt_Used    196 non-null    object \n",
      " 5   Survived         196 non-null    int64  \n",
      "dtypes: float64(1), int64(2), object(3)\n",
      "memory usage: 10.7+ KB\n"
     ]
    }
   ],
   "source": [
    "df.info()"
   ]
  },
  {
   "cell_type": "markdown",
   "id": "347cb2e9-5f2c-4fea-9b90-59962150d8c0",
   "metadata": {},
   "source": [
    "# Check for outliers "
   ]
  },
  {
   "cell_type": "code",
   "execution_count": 54,
   "id": "f6767b6a-5374-4e6f-8b62-c49cf5e4bc9d",
   "metadata": {},
   "outputs": [
    {
     "data": {
      "text/plain": [
       "<Axes: >"
      ]
     },
     "execution_count": 54,
     "metadata": {},
     "output_type": "execute_result"
    },
    {
     "data": {
      "image/png": "[encoded data removed]",
      "text/plain": [
       "<Figure size 640x480 with 1 Axes>"
      ]
     },
     "metadata": {},
     "output_type": "display_data"
    }
   ],
   "source": [
    "sns.boxplot(df.loc[:, ['Age', 'Speed_of_Impact']])"
   ]
  },
  {
   "cell_type": "markdown",
   "id": "9b7c97ca-edfb-4398-a8b7-20ba15984560",
   "metadata": {},
   "source": [
    "# Categorical values distribution"
   ]
  },
  {
   "cell_type": "code",
   "execution_count": 55,
   "id": "c6f13e34-6eb8-4932-bdfd-ad01407f7f27",
   "metadata": {},
   "outputs": [
    {
     "data": {
      "image/png": "[encoded data removed]",
      "text/plain": [
       "<Figure size 1200x600 with 4 Axes>"
      ]
     },
     "metadata": {},
     "output_type": "display_data"
    }
   ],
   "source": [
    "import matplotlib.pyplot as plt\n",
    "\n",
    "fig, axes = plt.subplots(2, 2, figsize=(12, 6))\n",
    "\n",
    "# Gender Distribution\n",
    "df['Gender'].value_counts().plot.pie(\n",
    "    ax=axes[0, 0], autopct='%1.1f%%', colors=['skyblue', 'pink'], startangle=90)\n",
    "axes[0, 0].set_title('Gender Distribution')\n",
    "axes[0, 0].set_ylabel('')\n",
    "\n",
    "# Helmet Used\n",
    "df['Helmet_Used'].value_counts().plot.pie(\n",
    "    ax=axes[0, 1], autopct='%1.1f%%', colors=['lightgreen', 'lightcoral', 'lightblue'], startangle=90)\n",
    "axes[0, 1].set_title('Helmets Used Distribution')\n",
    "axes[0, 1].set_ylabel('')\n",
    "\n",
    "# Seatbelt Used\n",
    "df['Seatbelt_Used'].value_counts().plot.pie(\n",
    "    ax=axes[1, 0], autopct='%1.1f%%', colors=['orange', 'lightblue'], startangle=90)\n",
    "axes[1, 0].set_title('Seatbelts Used Distribution')\n",
    "axes[1, 0].set_ylabel('')\n",
    "\n",
    "# Survived\n",
    "df['Survived'].value_counts().plot.pie(\n",
    "    ax=axes[1, 1], autopct='%1.1f%%', colors=['gold', 'lightgray'], startangle=90)\n",
    "axes[1, 1].set_title('Survived Distribution')\n",
    "axes[1, 1].set_ylabel('')\n",
    "\n",
    "plt.tight_layout()\n",
    "plt.show()\n"
   ]
  },
  {
   "cell_type": "markdown",
   "id": "cda5b1c7-3528-48a2-a038-61e9083cdabf",
   "metadata": {},
   "source": [
    "# Survivor statistics "
   ]
  },
  {
   "cell_type": "code",
   "execution_count": 13,
   "id": "29931492-6571-43ca-bd56-64a8bd4a9bd4",
   "metadata": {},
   "outputs": [
    {
     "data": {
      "text/html": [
       "<div>\n",
       "<style scoped>\n",
       "    .dataframe tbody tr th:only-of-type {\n",
       "        vertical-align: middle;\n",
       "    }\n",
       "\n",
       "    .dataframe tbody tr th {\n",
       "        vertical-align: top;\n",
       "    }\n",
       "\n",
       "    .dataframe thead th {\n",
       "        text-align: right;\n",
       "    }\n",
       "</style>\n",
       "<table border=\"1\" class=\"dataframe\">\n",
       "  <thead>\n",
       "    <tr style=\"text-align: right;\">\n",
       "      <th></th>\n",
       "      <th>Age</th>\n",
       "      <th>Speed_of_Impact</th>\n",
       "      <th>Survived</th>\n",
       "      <th>Gender_Male</th>\n",
       "      <th>Helmet_Used_Yes</th>\n",
       "      <th>Seatbelt_Used_Yes</th>\n",
       "    </tr>\n",
       "  </thead>\n",
       "  <tbody>\n",
       "    <tr>\n",
       "      <th>0</th>\n",
       "      <td>56</td>\n",
       "      <td>27.0</td>\n",
       "      <td>1</td>\n",
       "      <td>0</td>\n",
       "      <td>0</td>\n",
       "      <td>0</td>\n",
       "    </tr>\n",
       "    <tr>\n",
       "      <th>1</th>\n",
       "      <td>69</td>\n",
       "      <td>46.0</td>\n",
       "      <td>1</td>\n",
       "      <td>0</td>\n",
       "      <td>0</td>\n",
       "      <td>1</td>\n",
       "    </tr>\n",
       "    <tr>\n",
       "      <th>2</th>\n",
       "      <td>46</td>\n",
       "      <td>46.0</td>\n",
       "      <td>0</td>\n",
       "      <td>1</td>\n",
       "      <td>1</td>\n",
       "      <td>1</td>\n",
       "    </tr>\n",
       "    <tr>\n",
       "      <th>3</th>\n",
       "      <td>32</td>\n",
       "      <td>117.0</td>\n",
       "      <td>0</td>\n",
       "      <td>1</td>\n",
       "      <td>0</td>\n",
       "      <td>1</td>\n",
       "    </tr>\n",
       "    <tr>\n",
       "      <th>4</th>\n",
       "      <td>60</td>\n",
       "      <td>40.0</td>\n",
       "      <td>0</td>\n",
       "      <td>0</td>\n",
       "      <td>1</td>\n",
       "      <td>1</td>\n",
       "    </tr>\n",
       "  </tbody>\n",
       "</table>\n",
       "</div>"
      ],
      "text/plain": [
       "   Age  Speed_of_Impact  Survived  Gender_Male  Helmet_Used_Yes  \\\n",
       "0   56             27.0         1            0                0   \n",
       "1   69             46.0         1            0                0   \n",
       "2   46             46.0         0            1                1   \n",
       "3   32            117.0         0            1                0   \n",
       "4   60             40.0         0            0                1   \n",
       "\n",
       "   Seatbelt_Used_Yes  \n",
       "0                  0  \n",
       "1                  1  \n",
       "2                  1  \n",
       "3                  1  \n",
       "4                  1  "
      ]
     },
     "execution_count": 13,
     "metadata": {},
     "output_type": "execute_result"
    }
   ],
   "source": [
    "df = pd.get_dummies(df, drop_first=True, dtype=int)\n",
    "df.head()"
   ]
  },
  {
   "cell_type": "code",
   "execution_count": 31,
   "id": "9e45ffe4-d699-4464-9e7d-f0ad31a23f51",
   "metadata": {},
   "outputs": [
    {
     "data": {
      "image/png": "[encoded data removed]",
      "text/plain": [
       "<Figure size 1400x1000 with 4 Axes>"
      ]
     },
     "metadata": {},
     "output_type": "display_data"
    }
   ],
   "source": [
    "# columns for plot\n",
    "cols = [\"Age\", \"Speed_of_Impact\", \"Helmet_Used_Yes\", \"Seatbelt_Used_Yes\"]\n",
    "\n",
    "num_of_plots = len(cols)\n",
    "n_cols = 2\n",
    "n_rows = (num_of_plots + n_cols - 1) // n_cols  # Ensure enough rows\n",
    "\n",
    "fig, axs = plt.subplots(n_rows, n_cols, figsize=(14, 10))\n",
    "axs = axs.flatten()  # Flatten for easy iteration\n",
    "\n",
    "for i in range(num_of_plots):\n",
    "    avg_metric = df.groupby(\"Survived\")[cols[i]].mean()\n",
    "    avg_metric.plot(kind='bar', ax=axs[i])\n",
    "\n",
    "    axs[i].set_title(f'Survived vs Avg {cols[i]}')\n",
    "    axs[i].set_xlabel(\"Churn(Yes or No)\")\n",
    "    axs[i].set_ylabel(f'Avg {cols[i]}')\n",
    "    axs[i].grid(axis='y', linestyle='--', alpha=0.7)\n",
    "\n",
    "plt.tight_layout()\n",
    "plt.show()\n"
   ]
  },
  {
   "cell_type": "markdown",
   "id": "7a88f2ba-8241-4508-a89c-a18389e4fab5",
   "metadata": {},
   "source": [
    "# Correlation Check"
   ]
  },
  {
   "cell_type": "code",
   "execution_count": 32,
   "id": "e8ea3257-ad81-478e-93ad-bccdd7629e0b",
   "metadata": {},
   "outputs": [
    {
     "data": {
      "text/plain": [
       "<Axes: >"
      ]
     },
     "execution_count": 32,
     "metadata": {},
     "output_type": "execute_result"
    },
    {
     "data": {
      "image/png": "[encoded data removed]",
      "text/plain": [
       "<Figure size 640x480 with 2 Axes>"
      ]
     },
     "metadata": {},
     "output_type": "display_data"
    }
   ],
   "source": [
    "df1 = df.loc[:, ['Age', 'Speed_of_Impact']]\n",
    "sns.heatmap(df1.corr(),\n",
    "           annot=True,\n",
    "           fmt='.1g',\n",
    "           center=0,\n",
    "           cmap='coolwarm',\n",
    "           linewidths=1,\n",
    "           linecolor='black') "
   ]
  },
  {
   "cell_type": "markdown",
   "id": "a45dc774-48da-4f6a-aebf-67178a99baa1",
   "metadata": {},
   "source": [
    "# Logistic Regression Prep"
   ]
  },
  {
   "cell_type": "code",
   "execution_count": 33,
   "id": "76f28663-8ece-4914-8383-e856f33e3dc6",
   "metadata": {},
   "outputs": [
    {
     "data": {
      "text/html": [
       "<div>\n",
       "<style scoped>\n",
       "    .dataframe tbody tr th:only-of-type {\n",
       "        vertical-align: middle;\n",
       "    }\n",
       "\n",
       "    .dataframe tbody tr th {\n",
       "        vertical-align: top;\n",
       "    }\n",
       "\n",
       "    .dataframe thead th {\n",
       "        text-align: right;\n",
       "    }\n",
       "</style>\n",
       "<table border=\"1\" class=\"dataframe\">\n",
       "  <thead>\n",
       "    <tr style=\"text-align: right;\">\n",
       "      <th></th>\n",
       "      <th>Age</th>\n",
       "      <th>Speed_of_Impact</th>\n",
       "      <th>Survived</th>\n",
       "      <th>Gender_Male</th>\n",
       "      <th>Helmet_Used_Yes</th>\n",
       "      <th>Seatbelt_Used_Yes</th>\n",
       "    </tr>\n",
       "  </thead>\n",
       "  <tbody>\n",
       "    <tr>\n",
       "      <th>0</th>\n",
       "      <td>56</td>\n",
       "      <td>27.0</td>\n",
       "      <td>1</td>\n",
       "      <td>0</td>\n",
       "      <td>0</td>\n",
       "      <td>0</td>\n",
       "    </tr>\n",
       "  </tbody>\n",
       "</table>\n",
       "</div>"
      ],
      "text/plain": [
       "   Age  Speed_of_Impact  Survived  Gender_Male  Helmet_Used_Yes  \\\n",
       "0   56             27.0         1            0                0   \n",
       "\n",
       "   Seatbelt_Used_Yes  \n",
       "0                  0  "
      ]
     },
     "execution_count": 33,
     "metadata": {},
     "output_type": "execute_result"
    }
   ],
   "source": [
    "df = pd.get_dummies(df, drop_first=True, dtype=int)\n",
    "df.head(1)"
   ]
  },
  {
   "cell_type": "code",
   "execution_count": 34,
   "id": "27026d2c-7756-441b-ae29-2c123b5e12cc",
   "metadata": {},
   "outputs": [
    {
     "data": {
      "text/html": [
       "<div>\n",
       "<style scoped>\n",
       "    .dataframe tbody tr th:only-of-type {\n",
       "        vertical-align: middle;\n",
       "    }\n",
       "\n",
       "    .dataframe tbody tr th {\n",
       "        vertical-align: top;\n",
       "    }\n",
       "\n",
       "    .dataframe thead th {\n",
       "        text-align: right;\n",
       "    }\n",
       "</style>\n",
       "<table border=\"1\" class=\"dataframe\">\n",
       "  <thead>\n",
       "    <tr style=\"text-align: right;\">\n",
       "      <th></th>\n",
       "      <th>Age</th>\n",
       "      <th>Speed_of_Impact</th>\n",
       "      <th>Gender_Male</th>\n",
       "      <th>Helmet_Used_Yes</th>\n",
       "      <th>Seatbelt_Used_Yes</th>\n",
       "      <th>Survived</th>\n",
       "    </tr>\n",
       "  </thead>\n",
       "  <tbody>\n",
       "    <tr>\n",
       "      <th>0</th>\n",
       "      <td>56</td>\n",
       "      <td>27.0</td>\n",
       "      <td>0</td>\n",
       "      <td>0</td>\n",
       "      <td>0</td>\n",
       "      <td>1</td>\n",
       "    </tr>\n",
       "  </tbody>\n",
       "</table>\n",
       "</div>"
      ],
      "text/plain": [
       "   Age  Speed_of_Impact  Gender_Male  Helmet_Used_Yes  Seatbelt_Used_Yes  \\\n",
       "0   56             27.0            0                0                  0   \n",
       "\n",
       "   Survived  \n",
       "0         1  "
      ]
     },
     "execution_count": 34,
     "metadata": {},
     "output_type": "execute_result"
    }
   ],
   "source": [
    "columns = ['Age', 'Speed_of_Impact', 'Gender_Male', 'Helmet_Used_Yes', 'Seatbelt_Used_Yes', 'Survived']\n",
    "df = df[columns]\n",
    "df.head(1)"
   ]
  },
  {
   "cell_type": "markdown",
   "id": "5da41807-66da-47e8-8931-39ea7d08c829",
   "metadata": {},
   "source": [
    "## Isolate X and y"
   ]
  },
  {
   "cell_type": "code",
   "execution_count": 35,
   "id": "277a001a-5a25-4767-8140-b30bd60200e9",
   "metadata": {},
   "outputs": [
    {
     "data": {
      "text/html": [
       "<div>\n",
       "<style scoped>\n",
       "    .dataframe tbody tr th:only-of-type {\n",
       "        vertical-align: middle;\n",
       "    }\n",
       "\n",
       "    .dataframe tbody tr th {\n",
       "        vertical-align: top;\n",
       "    }\n",
       "\n",
       "    .dataframe thead th {\n",
       "        text-align: right;\n",
       "    }\n",
       "</style>\n",
       "<table border=\"1\" class=\"dataframe\">\n",
       "  <thead>\n",
       "    <tr style=\"text-align: right;\">\n",
       "      <th></th>\n",
       "      <th>const</th>\n",
       "      <th>Age</th>\n",
       "      <th>Speed_of_Impact</th>\n",
       "      <th>Gender_Male</th>\n",
       "      <th>Helmet_Used_Yes</th>\n",
       "      <th>Seatbelt_Used_Yes</th>\n",
       "    </tr>\n",
       "  </thead>\n",
       "  <tbody>\n",
       "    <tr>\n",
       "      <th>0</th>\n",
       "      <td>1.0</td>\n",
       "      <td>56</td>\n",
       "      <td>27.0</td>\n",
       "      <td>0</td>\n",
       "      <td>0</td>\n",
       "      <td>0</td>\n",
       "    </tr>\n",
       "    <tr>\n",
       "      <th>1</th>\n",
       "      <td>1.0</td>\n",
       "      <td>69</td>\n",
       "      <td>46.0</td>\n",
       "      <td>0</td>\n",
       "      <td>0</td>\n",
       "      <td>1</td>\n",
       "    </tr>\n",
       "  </tbody>\n",
       "</table>\n",
       "</div>"
      ],
      "text/plain": [
       "   const  Age  Speed_of_Impact  Gender_Male  Helmet_Used_Yes  \\\n",
       "0    1.0   56             27.0            0                0   \n",
       "1    1.0   69             46.0            0                0   \n",
       "\n",
       "   Seatbelt_Used_Yes  \n",
       "0                  0  \n",
       "1                  1  "
      ]
     },
     "execution_count": 35,
     "metadata": {},
     "output_type": "execute_result"
    }
   ],
   "source": [
    "# Isolate X and y\n",
    "X = df.iloc[:, :-1]\n",
    "y = df.iloc[:, -1]\n",
    "X = sm.add_constant(X)\n",
    "X.head(2)"
   ]
  },
  {
   "cell_type": "markdown",
   "id": "171f39cf-4341-48f6-9b09-31b3ce51adea",
   "metadata": {},
   "source": [
    "## Test train Split"
   ]
  },
  {
   "cell_type": "code",
   "execution_count": 36,
   "id": "421abdb1-2032-48f7-807e-c0b80fb03a1d",
   "metadata": {},
   "outputs": [],
   "source": [
    "X_train, X_test, y_train, y_test = train_test_split(X, y, test_size=0.2, random_state=1502)"
   ]
  },
  {
   "cell_type": "markdown",
   "id": "20baeabd-e7f0-4609-a5e6-9d6beccd8488",
   "metadata": {},
   "source": [
    "## Train the model"
   ]
  },
  {
   "cell_type": "code",
   "execution_count": 37,
   "id": "12643ab7-ac36-4583-bfed-2bc9a8ecbc5c",
   "metadata": {},
   "outputs": [
    {
     "name": "stdout",
     "output_type": "stream",
     "text": [
      "Optimization terminated successfully.\n",
      "         Current function value: 0.677464\n",
      "         Iterations 4\n"
     ]
    }
   ],
   "source": [
    "model = sm.Logit(y_train, X_train).fit()"
   ]
  },
  {
   "cell_type": "markdown",
   "id": "2fc2f582-32de-4c53-8c93-35ca88da9a31",
   "metadata": {},
   "source": [
    "## Summary "
   ]
  },
  {
   "cell_type": "code",
   "execution_count": 38,
   "id": "f1f486e4-48ba-45d3-ab51-be2af3a3f514",
   "metadata": {},
   "outputs": [
    {
     "name": "stdout",
     "output_type": "stream",
     "text": [
      "                           Logit Regression Results                           \n",
      "==============================================================================\n",
      "Dep. Variable:               Survived   No. Observations:                  156\n",
      "Model:                          Logit   Df Residuals:                      150\n",
      "Method:                           MLE   Df Model:                            5\n",
      "Date:                Tue, 29 Apr 2025   Pseudo R-squ.:                 0.01514\n",
      "Time:                        13:19:44   Log-Likelihood:                -105.68\n",
      "converged:                       True   LL-Null:                       -107.31\n",
      "Covariance Type:            nonrobust   LLR p-value:                    0.6616\n",
      "=====================================================================================\n",
      "                        coef    std err          z      P>|z|      [0.025      0.975]\n",
      "-------------------------------------------------------------------------------------\n",
      "const                -0.6618      0.653     -1.013      0.311      -1.942       0.618\n",
      "Age                   0.0083      0.011      0.755      0.450      -0.013       0.030\n",
      "Speed_of_Impact       0.0043      0.005      0.806      0.420      -0.006       0.015\n",
      "Gender_Male           0.3213      0.331      0.971      0.332      -0.327       0.970\n",
      "Helmet_Used_Yes      -0.2374      0.335     -0.709      0.478      -0.893       0.419\n",
      "Seatbelt_Used_Yes     0.3395      0.332      1.022      0.307      -0.312       0.991\n",
      "=====================================================================================\n"
     ]
    }
   ],
   "source": [
    "print(model.summary())"
   ]
  },
  {
   "cell_type": "markdown",
   "id": "79039052-9bab-4b63-a65d-c50a351b1afa",
   "metadata": {},
   "source": [
    "## Assess the model"
   ]
  },
  {
   "cell_type": "code",
   "execution_count": 39,
   "id": "d6d46183-1d7e-4bb2-b68a-66e9ddaf1d29",
   "metadata": {},
   "outputs": [
    {
     "data": {
      "text/plain": [
       "array([1, 1])"
      ]
     },
     "execution_count": 39,
     "metadata": {},
     "output_type": "execute_result"
    }
   ],
   "source": [
    "# Predictions\n",
    "prediction = model.predict(X_test)\n",
    "prediction = np.where(prediction > 0.5, 1, 0)\n",
    "prediction[:2]"
   ]
  },
  {
   "cell_type": "code",
   "execution_count": 40,
   "id": "ee94ff5c-23f4-40ef-9a6b-32d9188eae86",
   "metadata": {},
   "outputs": [
    {
     "data": {
      "text/plain": [
       "0.35"
      ]
     },
     "execution_count": 40,
     "metadata": {},
     "output_type": "execute_result"
    }
   ],
   "source": [
    "y_test.mean()  # if < 0.3 then unbalanced"
   ]
  },
  {
   "cell_type": "markdown",
   "id": "86a62dce-8837-45f8-8148-99bf30972b45",
   "metadata": {},
   "source": [
    "## Confusion Matrix"
   ]
  },
  {
   "cell_type": "code",
   "execution_count": 41,
   "id": "f7b58e42-45f1-4f65-aea9-10850e2006bd",
   "metadata": {},
   "outputs": [
    {
     "name": "stdout",
     "output_type": "stream",
     "text": [
      "[[10 16]\n",
      " [ 3 11]]\n"
     ]
    }
   ],
   "source": [
    "# confusion matrix \n",
    "print(confusion_matrix(y_test, prediction))\n",
    "tn, fp, fn, tp = confusion_matrix(y_test, prediction).ravel()"
   ]
  },
  {
   "cell_type": "code",
   "execution_count": 42,
   "id": "872b2666-9442-418e-92bd-e2fa4fa1e0bb",
   "metadata": {},
   "outputs": [],
   "source": [
    "def logit_eval(tn, fp, fn, tp):\n",
    "    accuracy = (tp + tn) / (tp + tn + fp + fn)\n",
    "    specificity = tn / (tn + fp)\n",
    "    precision = tp / (tp + fp)\n",
    "    recall = tp / (tp + fn)\n",
    "    f1_score = 2 * (precision * recall) / (precision + recall)\n",
    "    f1_score2 = (2 * tp) / (2 * tp + fp + fn)\n",
    "\n",
    "    evals = [accuracy, precision, recall, f1_score, f1_score2, specificity]\n",
    "    evals_str = ['accuracy', 'precision', 'recall(sensitivity)', 'f1_score', 'f1_score2', 'specificity']\n",
    "\n",
    "    for i in range(len(evals)):\n",
    "        print(f'Evaluation metric {evals_str[i]}: {round(evals[i] * 100, 2)}%')"
   ]
  },
  {
   "cell_type": "code",
   "execution_count": 43,
   "id": "646f6fdb-2f53-48e2-b120-0862aea98360",
   "metadata": {},
   "outputs": [
    {
     "name": "stdout",
     "output_type": "stream",
     "text": [
      "Evaluation metric accuracy: 52.5%\n",
      "Evaluation metric precision: 40.74%\n",
      "Evaluation metric recall(sensitivity): 78.57%\n",
      "Evaluation metric f1_score: 53.66%\n",
      "Evaluation metric f1_score2: 53.66%\n",
      "Evaluation metric specificity: 38.46%\n"
     ]
    }
   ],
   "source": [
    "logit_eval(tn, fp, fn, tp)"
   ]
  },
  {
   "cell_type": "markdown",
   "id": "8dbf3ea7-f4e9-4321-a63a-c29f26f01816",
   "metadata": {},
   "source": [
    "# classification report "
   ]
  },
  {
   "cell_type": "code",
   "execution_count": 44,
   "id": "8303254f-eeef-4480-a8e4-e5500d48a0e4",
   "metadata": {},
   "outputs": [
    {
     "name": "stdout",
     "output_type": "stream",
     "text": [
      "              precision    recall  f1-score   support\n",
      "\n",
      "           0       0.77      0.38      0.51        26\n",
      "           1       0.41      0.79      0.54        14\n",
      "\n",
      "    accuracy                           0.53        40\n",
      "   macro avg       0.59      0.59      0.52        40\n",
      "weighted avg       0.64      0.53      0.52        40\n",
      "\n"
     ]
    }
   ],
   "source": [
    "print(classification_report(y_test, prediction))"
   ]
  }
 ],
 "metadata": {
  "kernelspec": {
   "display_name": "Python 3 (ipykernel)",
   "language": "python",
   "name": "python3"
  },
  "language_info": {
   "codemirror_mode": {
    "name": "ipython",
    "version": 3
   },
   "file_extension": ".py",
   "mimetype": "text/x-python",
   "name": "python",
   "nbconvert_exporter": "python",
   "pygments_lexer": "ipython3",
   "version": "3.12.6"
  }
 },
 "nbformat": 4,
 "nbformat_minor": 5
}
