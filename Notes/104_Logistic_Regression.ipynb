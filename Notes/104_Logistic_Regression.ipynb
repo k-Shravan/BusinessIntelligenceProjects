{
 "cells": [
  {
   "cell_type": "markdown",
   "id": "1b559f20-e8e0-42a5-b64b-0a3ca9b9dc9a",
   "metadata": {},
   "source": [
    "# Logistic Regression\n",
    "Logistic regression is a supervised machine learning algorithm used for classification tasks where the goal is to predict the probability that an instance belongs to a given class or not. Logistic regression is a statistical algorithm which analyze the relationship between two data factors. The article explores the fundamentals of logistic regression, it's types and implementations.\n",
    "\n",
    "Logistic regression is used for binary classification where we use sigmoid function, that takes input as independent variables and produces a probability value between 0 and 1."
   ]
  },
  {
   "cell_type": "markdown",
   "id": "dcfc01a1-6561-4969-a4a5-c5718fe1122d",
   "metadata": {},
   "source": [
    "# Key Points:\n",
    "- Logistic regression predicts the output of a categorical dependent variable. Therefore, the outcome must be a categorical or discrete value.\n",
    "- It can be either Yes or No, 0 or 1, true or False, etc. but instead of giving the exact value as 0 and 1, it gives the probabilistic values which lie between 0 and 1.\n",
    "- In Logistic regression, instead of fitting a regression line, we fit an \"S\" shaped logistic function, which predicts two maximum values (0 or 1)."
   ]
  },
  {
   "cell_type": "markdown",
   "id": "36371ef7-91e4-49f3-b078-a3105dc71a29",
   "metadata": {},
   "source": [
    "# Types of Logistic Regression\n",
    "\n",
    "- **Binomial**: In binomial Logistic regression, there can be only two possible types of the dependent variables, such as 0 or 1, Pass or Fail, etc.\n",
    "- **Multinomial**: In multinomial Logistic regression, there can be 3 or more possible unordered types of the dependent variable, such as \"cat\", \"dogs\", or \"sheep\"\n",
    "- **Ordinal**: In ordinal Logistic regression, there can be 3 or more possible ordered types of dependent variables, such as \"low\", \"Medium\", or \"High\"."
   ]
  },
  {
   "cell_type": "markdown",
   "id": "6ae845fa-f0d2-4f1e-9b20-84bc8a4c8d8f",
   "metadata": {},
   "source": [
    "# Assumptions of Logistic Regression\n",
    "\n",
    "- **Independent observations**: Each observation is independent of the other. meaning there is no correlation between any input variables.\n",
    "- **Binary dependent variables**: It takes the assumption that the dependent variable must be binary or dichotomous, meaning it can take only two values. For more than two categories SoftMax functions are used.\n",
    "- **Linearity relationship between independent variables and log odds**: The relationship between the independent variables and the log odds of the dependent variable should be linear.\n",
    "- **No outliers**: There should be no outliers in the dataset.\n",
    "- **Large sample size**: The sample size is sufficiently large\n"
   ]
  },
  {
   "cell_type": "markdown",
   "id": "df3bf8ed-e900-4ed8-a265-cc92511139e8",
   "metadata": {},
   "source": [
    "# Understanding Sigmoid Function\n",
    "\n",
    "- The sigmoid function is a mathematical function used to map the predicted values to probabilities.\n",
    "- It maps any real value into another value within a range of 0 and 1. The value of the logistic regression must be between 0 and 1, which cannot go beyond this limit, so it forms a curve like the \"S\" form.\n",
    "- The S-form curve is called the Sigmoid function or the logistic function.\n",
    "- In logistic regression, we use the concept of the threshold value, which defines the probability of either 0 or 1. Such as values above the threshold value tends to 1, and a value below the threshold values tends to 0.\n",
    "\n",
    "$$S(x) = \\frac{1}{1 + e^\\text{-x}}$$\n",
    "\n",
    "$$e = \\text{Euler's Number}$$"
   ]
  },
  {
   "cell_type": "code",
   "execution_count": 1,
   "id": "09b96e66-c7f5-407d-ac2b-ea5f0ec9e66f",
   "metadata": {},
   "outputs": [
    {
     "data": {
      "image/png": "[encoded data removed]",
      "text/plain": [
       "<Figure size 640x480 with 1 Axes>"
      ]
     },
     "metadata": {},
     "output_type": "display_data"
    }
   ],
   "source": [
    "import numpy as np\n",
    "import matplotlib.pyplot as plt\n",
    "\n",
    "x = np.arange(-10, 10, 0.5)\n",
    "sigmoid_function = 1 / (1 + np.exp(-x))\n",
    "\n",
    "plt.plot(x, sigmoid_function)\n",
    "plt.title('Sigmoid Function (S curve)')\n",
    "plt.xlabel('values')\n",
    "plt.ylabel('f(values)')\n",
    "plt.show()"
   ]
  },
  {
   "cell_type": "markdown",
   "id": "fc3c56bf-afd9-45d0-8566-9d7b69306ffb",
   "metadata": {},
   "source": [
    "As shown above, the figure sigmoid function converts the continuous variable data into the probability i.e. between 0 and 1. \n",
    "\n",
    "- $\\sigma(z) \\text{tends towards 1 as z } \\rightarrow \\infty $\n",
    "- $\\sigma(z) \\text{tends towards 0 as z } \\rightarrow -\\infty $\n",
    "- $\\sigma(z) \\text{ is always bounded between 0 and 1}$\n",
    "  \n",
    "where the probability of being a class can be measured as:\n",
    "\n",
    "$$P(y=1) = \\sigma(z)$$\n",
    "$$P(y=0) = 1 - \\sigma(z)$$"
   ]
  },
  {
   "cell_type": "markdown",
   "id": "82ae5bb5-5a0b-4c41-ae58-71c28667723d",
   "metadata": {},
   "source": [
    "# Equation of Logistic Regression:\n",
    "\n",
    "**The odd is the ratio of something occurring to something not occurring**. it is different from probability as the probability is the ratio of something occurring to everything that could possibly occur. so odd will be:\n",
    "\n",
    "$$ \\frac{p(x)}{1 - p(x)} = e^x$$\n",
    "\n",
    "the final logistic regression equation will be:\n",
    "$$p = \\frac{e^{w \\cdot X + b}}{1 + e^{w \\cdot X + b}}$$ \n",
    "$$or$$\n",
    "$$p = \\frac{1}{1 + e^{-w \\cdot X + b}}$$ "
   ]
  },
  {
   "cell_type": "markdown",
   "id": "4aea0b03-87c3-4c7b-9715-acde1787c295",
   "metadata": {},
   "source": [
    "# Terminologies involved in Logistic Regression\n",
    "\n",
    "- **Independent variables**: The input characteristics or predictor factors applied to the dependent variable's predictions.\n",
    "- **Dependent variable**: The target variable in a logistic regression model, which we are trying to predict.\n",
    "- **Logistic function**: The formula used to represent how the independent and dependent variables relate to one another. The logistic function transforms the input variables into a probability value between 0 and 1, which represents the likelihood of the dependent variable being 1 or 0.\n",
    "- **Odds**: It is the ratio of something occurring to something not occurring. it is different from probability as the probability is the ratio of something occurring to everything that could possibly occur.\n",
    "- **Log-odds**: The log-odds, also known as the logit function, is the natural logarithm of the odds. In logistic regression, the log odds of the dependent variable are modeled as a linear combination of the independent variables and the intercept.\n",
    "- **Coefficient**: The logistic regression model's estimated parameters, show how the independent and dependent variables relate to one another.\n",
    "- **Intercept**: A constant term in the logistic regression model, which represents the log odds when all independent variables are equal to zero.\n",
    "- **Maximum likelihood estimation**: The method used to estimate the coefficients of the logistic regression model, which maximizes the likelihood of observing the data given the model"
   ]
  },
  {
   "cell_type": "markdown",
   "id": "628dc811-c3dc-4168-8827-148f19e86e26",
   "metadata": {},
   "source": [
    "# Confusion Matrix\n",
    "\n",
    "![](https://cdn.prod.website-files.com/660ef16a9e0687d9cc27474a/662c42677529a0f4e97e4f43_644bedb136edb30fc02b0753_classification_metrics_img_source_grey.001-min.png \"Confusion Matrix\")"
   ]
  },
  {
   "cell_type": "markdown",
   "id": "6281e947-0edc-4956-83f8-2661828c32b9",
   "metadata": {},
   "source": [
    "# How to Evaluate Logistic Regression Model?\n",
    "\n",
    "Evaluating the model helps us assess the model’s performance and ensure it generalizes well to new data\n",
    "\n",
    "## Accuracy: For balanced dataset\n",
    "\n",
    "Accuracy provides the proportion of correctly classified instances.\n",
    "\n",
    "$$Accuracy = \\frac{True Positives + True Negatives}{Total}$$\n",
    "\n",
    "## Precision\n",
    "\n",
    "Precision focuses on the accuracy of positive predictions.\n",
    "\n",
    "$$Precision = \\frac{True Positives}{True Positives + False Positives}$$\n",
    "\n",
    "## Recall (Sensitivity or True Positive Rate)\n",
    "\n",
    "Recall measures the proportion of correctly predicted positive instances among all actual positive instances.\n",
    "\n",
    "$$Recal = \\frac{True Positives}{True Positives + False Negatives}$$\n",
    "\n",
    "## F1 Score: Unbalanced Dataset\n",
    "\n",
    "F1 score is the harmonic mean of precision and recall.\n",
    "\n",
    "$$F1 score = 2 * \\frac{Precision * Recall}{Precision + Recall}$$\n",
    "$$or$$\n",
    "$$F1 score = \\frac{2 * True Positives}{2 * True Positives + False Positives + False Negatives}$$\n",
    "\n",
    "## Area Under the Receiver Operating Characteristic Curve (AUC-ROC)\n",
    "\n",
    "The ROC curve plots the true positive rate against the false positive rate at various thresholds. AUC-ROC measures the area under this curve, providing an aggregate measure of a model's performance across different classification thresholds.\n",
    "\n",
    "## Area Under the Precision-Recall Curve (AUC-PR)\n",
    "\n",
    "Similar to AUC-ROC, AUC-PR measures the area under the precision-recall curve, providing a summary of a model's performance across different precision-recall trade-offs."
   ]
  },
  {
   "cell_type": "markdown",
   "id": "c6da8aac-7040-4bb3-a8cf-8d8f19b0e952",
   "metadata": {},
   "source": [
    "# Differences Between Linear and Logistic Regression\n",
    "\n",
    "The difference between linear regression and logistic regression is that linear regression output is the continuous value that can be anything while logistic regression predicts the probability that an instance belongs to a given class or not.\n",
    "\n",
    "|Linear Regression                                                       |Logistic Regression|\n",
    "|----------------------------|----------------------------\n",
    "|Linear regression is used to predict the continuous dependent variable using a given set of independent variables.|Logistic regression is used to predict the categorical dependent variable using a given set of independent variables.|\n",
    "|Linear regression is used for solving regression problem.|It is used for solving classification problems.|\n",
    "|In this we predict the value of continuous variables|In this we predict values of categorical variables|\n",
    "|In this we find best fit line.|In this we find S-Curve.|\n",
    "|Least square estimation method is used for estimation of accuracy.|Maximum likelihood estimation method is used for Estimation of accuracy.|\n",
    "|The output must be continuous value, such as price, age, etc.|Output must be categorical value such as 0 or 1, Yes or no, etc.|\n",
    "|It required linear relationship between dependent and independent variables.|It not required linear relationship.|\n",
    "|There may be collinearity between the independent variables.|There should be little to no collinearity between independent variables."
   ]
  }
 ],
 "metadata": {
  "kernelspec": {
   "display_name": "Python 3 (ipykernel)",
   "language": "python",
   "name": "python3"
  },
  "language_info": {
   "codemirror_mode": {
    "name": "ipython",
    "version": 3
   },
   "file_extension": ".py",
   "mimetype": "text/x-python",
   "name": "python",
   "nbconvert_exporter": "python",
   "pygments_lexer": "ipython3",
   "version": "3.12.6"
  }
 },
 "nbformat": 4,
 "nbformat_minor": 5
}
